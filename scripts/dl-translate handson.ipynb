{
 "cells": [
  {
   "cell_type": "markdown",
   "id": "20efd229-03b6-4624-a7e9-ee57d28f4214",
   "metadata": {
    "tags": []
   },
   "source": [
    "##### imports"
   ]
  },
  {
   "cell_type": "code",
   "execution_count": 20,
   "id": "f8dc3bc6-90e5-4219-81c2-3720fd305e73",
   "metadata": {},
   "outputs": [],
   "source": [
    "import dl_translate\n",
    "import nltk"
   ]
  },
  {
   "cell_type": "markdown",
   "id": "0fc41e7c-9738-4cec-af90-c6b1e02deed0",
   "metadata": {},
   "source": [
    "##### initializing translation pre-trained model (transformers & mBART - Large)"
   ]
  },
  {
   "cell_type": "code",
   "execution_count": 21,
   "id": "9eaa7cfc-e6ee-4ec6-b692-48e3071e8ac6",
   "metadata": {},
   "outputs": [],
   "source": [
    "translator = dl_translate.TranslationModel.load_obj('./../models/translation_model_m2m_100/')"
   ]
  },
  {
   "cell_type": "markdown",
   "id": "9282c3ad-cc92-438b-ba0d-ba3e49c75317",
   "metadata": {
    "jp-MarkdownHeadingCollapsed": true,
    "tags": []
   },
   "source": [
    "##### available languages and codes"
   ]
  },
  {
   "cell_type": "code",
   "execution_count": 22,
   "id": "a8cc3d4c-f1a3-4b5f-9474-1b8fe417ef8b",
   "metadata": {},
   "outputs": [
    {
     "name": "stdout",
     "output_type": "stream",
     "text": [
      "('Afrikaans', 'Amharic', 'Arabic', 'Asturian', 'Azerbaijani', 'Bashkir', 'Belarusian', 'Bulgarian', 'Bengali', 'Breton', 'Bosnian', 'Catalan', 'Valencian', 'Cebuano', 'Czech', 'Welsh', 'Danish', 'German', 'Greek', 'English', 'Spanish', 'Estonian', 'Persian', 'Fulah', 'Finnish', 'French', 'Western Frisian', 'Irish', 'Gaelic', 'Scottish Gaelic', 'Galician', 'Gujarati', 'Hausa', 'Hebrew', 'Hindi', 'Croatian', 'Haitian', 'Haitian Creole', 'Hungarian', 'Armenian', 'Indonesian', 'Igbo', 'Iloko', 'Icelandic', 'Italian', 'Japanese', 'Javanese', 'Georgian', 'Kazakh', 'Khmer', 'Central Khmer', 'Kannada', 'Korean', 'Luxembourgish', 'Letzeburgesch', 'Ganda', 'Lingala', 'Lao', 'Lithuanian', 'Latvian', 'Malagasy', 'Macedonian', 'Malayalam', 'Mongolian', 'Marathi', 'Malay', 'Burmese', 'Nepali', 'Dutch', 'Flemish', 'Norwegian', 'Northern Sotho', 'Occitan', 'Oriya', 'Panjabi', 'Punjabi', 'Polish', 'Pushto', 'Pashto', 'Portuguese', 'Romanian', 'Moldavian', 'Moldovan', 'Russian', 'Sindhi', 'Sinhala', 'Sinhalese', 'Slovak', 'Slovenian', 'Somali', 'Albanian', 'Serbian', 'Swati', 'Sundanese', 'Swedish', 'Swahili', 'Tamil', 'Thai', 'Tagalog', 'Tswana', 'Turkish', 'Ukrainian', 'Urdu', 'Uzbek', 'Vietnamese', 'Wolof', 'Xhosa', 'Yiddish', 'Yoruba', 'Chinese', 'Zulu')\n",
      "('af', 'am', 'ar', 'ast', 'az', 'ba', 'be', 'bg', 'bn', 'br', 'bs', 'ca', 'ca', 'ceb', 'cs', 'cy', 'da', 'de', 'el', 'en', 'es', 'et', 'fa', 'ff', 'fi', 'fr', 'fy', 'ga', 'gd', 'gd', 'gl', 'gu', 'ha', 'he', 'hi', 'hr', 'ht', 'ht', 'hu', 'hy', 'id', 'ig', 'ilo', 'is', 'it', 'ja', 'jv', 'ka', 'kk', 'km', 'km', 'kn', 'ko', 'lb', 'lb', 'lg', 'ln', 'lo', 'lt', 'lv', 'mg', 'mk', 'ml', 'mn', 'mr', 'ms', 'my', 'ne', 'nl', 'nl', 'no', 'ns', 'oc', 'or', 'pa', 'pa', 'pl', 'ps', 'ps', 'pt', 'ro', 'ro', 'ro', 'ru', 'sd', 'si', 'si', 'sk', 'sl', 'so', 'sq', 'sr', 'ss', 'su', 'sv', 'sw', 'ta', 'th', 'tl', 'tn', 'tr', 'uk', 'ur', 'uz', 'vi', 'wo', 'xh', 'yi', 'yo', 'zh', 'zu')\n",
      "{'Afrikaans': 'af', 'Amharic': 'am', 'Arabic': 'ar', 'Asturian': 'ast', 'Azerbaijani': 'az', 'Bashkir': 'ba', 'Belarusian': 'be', 'Bulgarian': 'bg', 'Bengali': 'bn', 'Breton': 'br', 'Bosnian': 'bs', 'Catalan': 'ca', 'Valencian': 'ca', 'Cebuano': 'ceb', 'Czech': 'cs', 'Welsh': 'cy', 'Danish': 'da', 'German': 'de', 'Greek': 'el', 'English': 'en', 'Spanish': 'es', 'Estonian': 'et', 'Persian': 'fa', 'Fulah': 'ff', 'Finnish': 'fi', 'French': 'fr', 'Western Frisian': 'fy', 'Irish': 'ga', 'Gaelic': 'gd', 'Scottish Gaelic': 'gd', 'Galician': 'gl', 'Gujarati': 'gu', 'Hausa': 'ha', 'Hebrew': 'he', 'Hindi': 'hi', 'Croatian': 'hr', 'Haitian': 'ht', 'Haitian Creole': 'ht', 'Hungarian': 'hu', 'Armenian': 'hy', 'Indonesian': 'id', 'Igbo': 'ig', 'Iloko': 'ilo', 'Icelandic': 'is', 'Italian': 'it', 'Japanese': 'ja', 'Javanese': 'jv', 'Georgian': 'ka', 'Kazakh': 'kk', 'Khmer': 'km', 'Central Khmer': 'km', 'Kannada': 'kn', 'Korean': 'ko', 'Luxembourgish': 'lb', 'Letzeburgesch': 'lb', 'Ganda': 'lg', 'Lingala': 'ln', 'Lao': 'lo', 'Lithuanian': 'lt', 'Latvian': 'lv', 'Malagasy': 'mg', 'Macedonian': 'mk', 'Malayalam': 'ml', 'Mongolian': 'mn', 'Marathi': 'mr', 'Malay': 'ms', 'Burmese': 'my', 'Nepali': 'ne', 'Dutch': 'nl', 'Flemish': 'nl', 'Norwegian': 'no', 'Northern Sotho': 'ns', 'Occitan': 'oc', 'Oriya': 'or', 'Panjabi': 'pa', 'Punjabi': 'pa', 'Polish': 'pl', 'Pushto': 'ps', 'Pashto': 'ps', 'Portuguese': 'pt', 'Romanian': 'ro', 'Moldavian': 'ro', 'Moldovan': 'ro', 'Russian': 'ru', 'Sindhi': 'sd', 'Sinhala': 'si', 'Sinhalese': 'si', 'Slovak': 'sk', 'Slovenian': 'sl', 'Somali': 'so', 'Albanian': 'sq', 'Serbian': 'sr', 'Swati': 'ss', 'Sundanese': 'su', 'Swedish': 'sv', 'Swahili': 'sw', 'Tamil': 'ta', 'Thai': 'th', 'Tagalog': 'tl', 'Tswana': 'tn', 'Turkish': 'tr', 'Ukrainian': 'uk', 'Urdu': 'ur', 'Uzbek': 'uz', 'Vietnamese': 'vi', 'Wolof': 'wo', 'Xhosa': 'xh', 'Yiddish': 'yi', 'Yoruba': 'yo', 'Chinese': 'zh', 'Zulu': 'zu'}\n"
     ]
    }
   ],
   "source": [
    "print(translator.available_languages())\n",
    "print(translator.available_codes())\n",
    "print(translator.get_lang_code_map())"
   ]
  },
  {
   "cell_type": "markdown",
   "id": "612109f4-1722-4609-931d-8cb679e57b5f",
   "metadata": {},
   "source": [
    "#### selecting the device\n",
    "##### by default it is set to 'auto' which means it will use the GPU if possible, but you can explicitly set device = 'cpu' or device = 'gpu' (recommended is GPU if you want a decent processing time)"
   ]
  },
  {
   "cell_type": "code",
   "execution_count": 14,
   "id": "fbe7a60d-df48-4e7b-81b7-367852600f94",
   "metadata": {},
   "outputs": [],
   "source": [
    "# translator = dl_translate.TranslationModel(device = 'auto') # automatically selected device\n",
    "# translator = dl_translate.TranslationModel(device = 'gpu') # force you to use GPU\n",
    "# translator = dl_translate.TranslationModel(device = 'cpu') # force yuo to use cpu\n",
    "# translator = dl_translate.TranslationModel(device = 'cude:2') # 3rd GPU if available"
   ]
  },
  {
   "cell_type": "markdown",
   "id": "b82928f0-3b7c-45a7-9ae6-fcc3f7536229",
   "metadata": {},
   "source": [
    "#### changing the model you are loading\n",
    "##### m2m100 & mBART-50 Large which respective allow translation accross over 100 languages and 50 languages. by defauls the model will select m2m100"
   ]
  },
  {
   "cell_type": "code",
   "execution_count": 24,
   "id": "11237cf5-c8cd-47ba-9037-67683bab284a",
   "metadata": {},
   "outputs": [],
   "source": [
    "# following ways are equivalent\n",
    "# translator = dl_translate.TranslationModel('m2m100') # default\n",
    "# translator = dl_translate.TranslationModel('facebook/m2m100_418M')\n",
    "\n",
    "# following ways are equivalent\n",
    "# translator = dl_translate.TranslationModel('mbart50')\n",
    "# translator = dl_translate.TranslationModel('facebook/mbart-large-50-many-to-many-mmt')"
   ]
  },
  {
   "cell_type": "markdown",
   "id": "fb47b1d0-2a01-44e7-a178-c1b6eae8d59a",
   "metadata": {},
   "source": [
    "#### breaking down into sentences\n",
    "##### not recommended to use extremely long texts, instead break them down into sentences. multiple solutions exists for that, including doing it manually and using the nltk library"
   ]
  },
  {
   "cell_type": "code",
   "execution_count": 7,
   "id": "65b64ac1-50e6-46b9-a4ca-52857be942bb",
   "metadata": {},
   "outputs": [
    {
     "name": "stdout",
     "output_type": "stream",
     "text": [
      "CPU times: user 8.15 s, sys: 1.74 s, total: 9.89 s\n",
      "Wall time: 8.37 s\n"
     ]
    },
    {
     "data": {
      "text/plain": [
       "'M. Tejas est un scientifique de données par profession.Là, il rencontre la plupart de ses passions et apprend de nouvelles choses de M. Arko..Les'"
      ]
     },
     "execution_count": 7,
     "metadata": {},
     "output_type": "execute_result"
    }
   ],
   "source": [
    "%%time\n",
    "text = 'Mr Tejas is a Data Scientist by profession. There he met most of his passions and learnt new things from Mr Arko.'\n",
    "sentences = text.split('.')\n",
    "'.'.join(translator.translate(sentences, source = dl_translate.lang.ENGLISH, target = dl_translate.lang.FRENCH))"
   ]
  },
  {
   "cell_type": "markdown",
   "id": "2e12e7fe-40ad-4a67-bafc-c7236a2521ae",
   "metadata": {},
   "source": [
    "**for more complex cases you can use nltk**"
   ]
  },
  {
   "cell_type": "code",
   "execution_count": 11,
   "id": "cf9324b3-34fa-493b-a7b2-21a21b26b743",
   "metadata": {},
   "outputs": [
    {
     "data": {
      "text/plain": [
       "'El Sr. Tejas es un científico de datos por profesión. Allí, conoció la mayor parte de sus pasiones y aprendió cosas nuevas de Mr. Arko'"
      ]
     },
     "execution_count": 11,
     "metadata": {},
     "output_type": "execute_result"
    }
   ],
   "source": [
    "text = 'Mr. Tejas is a Data Scientist by profession. There, he met most of his passions and learnt new things from Mr. Arko'\n",
    "sentences = nltk.tokenize.sent_tokenize(text, 'english')\n",
    "' '.join(translator.translate(sentences, source = dl_translate.lang.ENGLISH, target = dl_translate.lang.SPANISH))"
   ]
  }
 ],
 "metadata": {
  "kernelspec": {
   "display_name": "Python 3 (ipykernel)",
   "language": "python",
   "name": "python3"
  },
  "language_info": {
   "codemirror_mode": {
    "name": "ipython",
    "version": 3
   },
   "file_extension": ".py",
   "mimetype": "text/x-python",
   "name": "python",
   "nbconvert_exporter": "python",
   "pygments_lexer": "ipython3",
   "version": "3.9.13"
  }
 },
 "nbformat": 4,
 "nbformat_minor": 5
}
